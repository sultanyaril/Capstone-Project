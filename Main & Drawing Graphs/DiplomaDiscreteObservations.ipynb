{
 "cells": [
  {
   "cell_type": "code",
   "execution_count": 1,
   "metadata": {
    "id": "Rb0W1FmzlLZr"
   },
   "outputs": [],
   "source": [
    "import numpy as np\n",
    "import pandas as pd\n",
    "from scipy.stats import multivariate_normal\n",
    "import matplotlib.pyplot as plt\n",
    "from tqdm import tqdm\n",
    "import matplotlib"
   ]
  },
  {
   "cell_type": "code",
   "execution_count": 2,
   "metadata": {},
   "outputs": [],
   "source": [
    "plt.rcParams['text.usetex'] = True\n",
    "plt.rcParams['pgf.rcfonts'] = False\n",
    "plt.rcParams['pgf.texsystem'] = 'pdflatex'\n",
    "plt.rcParams['pgf.preamble'] = '\\n'.join([\n",
    "    r'\\usepackage[T1, T2A]{fontenc}',\n",
    "    r'\\usepackage[utf8]{inputenc}',\n",
    "    r'\\usepackage[english, russian]{babel}'\n",
    "    ])\n",
    "plt.rc('font', family='serif')\n",
    "plt.switch_backend('pgf')"
   ]
  },
  {
   "cell_type": "code",
   "execution_count": 3,
   "metadata": {},
   "outputs": [],
   "source": [
    "my_colors = ['green', 'red', 'gray', 'blue', 'purple', 'orange']\n",
    "plt.rcParams['axes.prop_cycle'] = plt.cycler(color=my_colors)"
   ]
  },
  {
   "cell_type": "code",
   "execution_count": 4,
   "metadata": {},
   "outputs": [],
   "source": [
    "plt.rcParams['font.size']=14"
   ]
  },
  {
   "cell_type": "code",
   "execution_count": 5,
   "metadata": {
    "id": "OmiLsT7hlXPd"
   },
   "outputs": [],
   "source": [
    "def stationary_distr(Q):\n",
    "  evals, evecs = np.linalg.eig(Q.T)\n",
    "  evec1 = evecs[:,np.isclose(evals, 1)]\n",
    "\n",
    "#Since np.isclose will return an array, we've indexed with an array\n",
    "#so we still have our 2nd axis.  Get rid of it, since it's only size 1.\n",
    "  evec1 = evec1[:,0]\n",
    "\n",
    "  stationary = evec1 / evec1.sum()\n",
    "\n",
    "#eigs finds complex eigenvalues and eigenvectors, so you'll want the real part.\n",
    "  stationary = stationary.real\n",
    "  return stationary"
   ]
  },
  {
   "cell_type": "code",
   "execution_count": 6,
   "metadata": {
    "id": "Q_Qg-mn_lzqY"
   },
   "outputs": [],
   "source": [
    "def init_X(pi):\n",
    "  U = np.random.uniform(0, 1, 1)\n",
    "  F = [np.sum(pi[0:i]) for i in range(1, pi.size + 1)]\n",
    "  for i in range(0, len(F)):\n",
    "    if F[i] > U:\n",
    "      return int(i)\n",
    "  return int(len(F) - 1)"
   ]
  },
  {
   "cell_type": "code",
   "execution_count": 7,
   "metadata": {
    "id": "Xuib_E9Yl1hu"
   },
   "outputs": [],
   "source": [
    "def scale(row):\n",
    "  s = np.sum(row)\n",
    "  return row/s"
   ]
  },
  {
   "cell_type": "code",
   "execution_count": 8,
   "metadata": {
    "id": "Tek6FXlIlZpi"
   },
   "outputs": [],
   "source": [
    "def model(dimensions, markov_chain, discretization):\n",
    "  dim_X, dim_Y = dimensions\n",
    "  Lambda, pi, f, g = markov_chain\n",
    "  H, h = discretization\n",
    "\n",
    "  # state\n",
    "  X_grid_length = int(T/H)\n",
    "  X_grid = np.arange(0, X_grid_length)\n",
    "  X = np.empty(X_grid_length, dtype = np.int8)\n",
    "  X[0] = init_X(pi)\n",
    "  for i in tqdm(X_grid[1:]):\n",
    "    P = np.eye(dim_X) + H * Lambda\n",
    "    P_i = P[X[i - 1]]\n",
    "    X[i] = init_X(scale(P_i))\n",
    "\n",
    "  # observations\n",
    "  Y_grid_length = int(T/h)\n",
    "  Y_grid = np.arange(0, Y_grid_length)\n",
    "  Y = np.empty((Y_grid_length, dim_Y))\n",
    "  for i in tqdm(Y_grid):\n",
    "    W = np.random.multivariate_normal(np.zeros(dim_Y), h * g[X[i * int(h/H)]])  #\n",
    "    Y[i] = f[X[i * int(h/H)]] * h + W\n",
    "  \n",
    "  # filtration\n",
    "  est_grid_length = Y_grid_length\n",
    "  estimation = np.empty((est_grid_length, dim_X), dtype = np.dtype('f8'))\n",
    "  est_grid = np.arange(0, est_grid_length)\n",
    "  \n",
    "  def N(Y, F, G):\n",
    "    return multivariate_normal.pdf(Y, F, G)\n",
    "\n",
    "  # initial state\n",
    "  estimation_0 = np.array([1/dim_X] * (dim_X - 1))\n",
    "  estimation_0 = np.append(estimation_0, 1 - np.sum(estimation_0))\n",
    "\n",
    "  estimation[0] = estimation_0\n",
    "  for i in tqdm(est_grid[1:]):\n",
    "    forecast = (np.eye(dim_X) + h * Lambda.T) @ estimation[i - 1]\n",
    "    k_t = np.diag([N(Y[i], H * f[j], H * g[j]) for j in range(dim_X)])\n",
    "    ones = np.ones((1, dim_X))\n",
    "    estimation[i] = 1 / (ones @ k_t @ forecast) * k_t @ forecast\n",
    "  \n",
    "  return X, Y, estimation, X_grid, Y_grid, est_grid"
   ]
  },
  {
   "cell_type": "code",
   "execution_count": 9,
   "metadata": {
    "id": "yvoST3_1qDxJ"
   },
   "outputs": [],
   "source": [
    "def model_X(dim_X, markov_chain, H, T):\n",
    "  Lambda, pi, f, g = markov_chain\n",
    "\n",
    "  # state\n",
    "  X_grid_length = int(T/H)\n",
    "  X_grid = np.arange(0, X_grid_length)\n",
    "  X = np.empty(X_grid_length, dtype = np.int8)\n",
    "  X[0] = init_X(pi)\n",
    "  for i in tqdm(X_grid[1:]):\n",
    "    P = np.eye(dim_X) + H * Lambda\n",
    "    P_i = P[X[i - 1]]\n",
    "    X[i] = init_X(scale(P_i))\n",
    "  \n",
    "  return X, X_grid"
   ]
  },
  {
   "cell_type": "code",
   "execution_count": 10,
   "metadata": {
    "id": "Q_gSRj87qNoH"
   },
   "outputs": [],
   "source": [
    "def model_Y(X, dim_Y, discretization, T):\n",
    "  H, h = discretization\n",
    "\n",
    "  # observations\n",
    "  Y_grid_length = int(T/h)\n",
    "  Y_grid = np.arange(0, Y_grid_length)\n",
    "  Y = np.empty((Y_grid_length, dim_Y))\n",
    "  for i in tqdm(Y_grid):\n",
    "    W = np.random.multivariate_normal(np.zeros(dim_Y), h * g[X[i * int(h/H)]])  #\n",
    "    Y[i] = f[X[i * int(h/H)]] * h + W  \n",
    "\n",
    "  return Y, Y_grid  "
   ]
  },
  {
   "cell_type": "code",
   "execution_count": 11,
   "metadata": {
    "id": "tIMKTRg0qbjS"
   },
   "outputs": [],
   "source": [
    "def filtering(Y, dimensions, markov_chain, h, T):\n",
    "  # filtration\n",
    "  dim_X, dim_Y = dimensions\n",
    "  Lambda, pi, f, g = markov_chain\n",
    "\n",
    "  est_grid_length = int(T/H)\n",
    "  estimation = np.empty((est_grid_length, dim_X), dtype = np.dtype('f8'))\n",
    "  est_grid = np.arange(0, est_grid_length)\n",
    "  \n",
    "  N = multivariate_normal.pdf\n",
    "\n",
    "\n",
    "  estimation[0] = pi#estimation_0\n",
    "  for i in tqdm(est_grid[1:]):\n",
    "    forecast = (np.eye(dim_X) + H * Lambda.T) @ estimation[i - 1]\n",
    "    estimation[i] = forecast\n",
    "    if i % (int(h/H)) == 0:\n",
    "        k_t = np.diag([N(Y[i], H * f[j], H * g[j]) for j in range(dim_X)])\n",
    "        ones = np.ones((1, dim_X))\n",
    "        estimation[i] = 1 / (ones @ k_t @ forecast) * k_t @ forecast\n",
    "  return estimation, est_grid"
   ]
  },
  {
   "cell_type": "code",
   "execution_count": 12,
   "metadata": {
    "id": "cJEyBGn8nXY9"
   },
   "outputs": [],
   "source": [
    "def to_sums(Y, Y_grid):\n",
    "  Y_grid_length = len(Y_grid)\n",
    "  sum_Y = np.empty((Y_grid_length, dim_Y))\n",
    "  sum_Y[0][0] = 1\n",
    "  for i in tqdm(Y_grid[1:]):\n",
    "    sum_Y[i] = sum_Y[i - 1] + Y[i - 1]\n",
    "  return sum_Y"
   ]
  },
  {
   "cell_type": "code",
   "execution_count": 13,
   "metadata": {
    "id": "R00Nb74slV2f"
   },
   "outputs": [],
   "source": [
    "H = 10 ** (-7) # X time\n",
    "h = 10 ** (-4) # Y time\n",
    "T = 1 # in minutes\n",
    "seed = 100\n",
    "if seed != 0:\n",
    "    np.random.seed(seed)\n",
    "\n",
    "dim_X = 4\n",
    "dim_Y = 1\n",
    "\n",
    "Lambda = np.array([[-12.5, 12.5, 0, 0],\n",
    "                    [0, -1000, 1000, 0],\n",
    "                    [0, 0, -250, 250]\n",
    "                   ,[40, 0, 10, -50]])\n",
    "pi = stationary_distr(np.eye(dim_X) - H * Lambda)\n",
    "f = np.array([[0.07], \n",
    "              [0.03], \n",
    "              [0.02],\n",
    "              [0.025]])\n",
    "g = np.array([np.diag([0.1]), \n",
    "              np.diag([0.5]), \n",
    "              np.diag([0.6]),\n",
    "              np.diag([0.3])])\n"
   ]
  },
  {
   "cell_type": "code",
   "execution_count": 14,
   "metadata": {},
   "outputs": [],
   "source": [
    "with open('XandY.npy', 'rb') as file:\n",
    "    npzfile = np.load(file)\n",
    "    X = npzfile['X'].copy()\n",
    "    X_grid = npzfile['X_grid'].copy()\n",
    "    Y = npzfile['Y'].copy()\n",
    "    Y_grid = npzfile['Y_grid'].copy()\n",
    "    Y_sum = npzfile['Y_sum'].copy()"
   ]
  },
  {
   "cell_type": "code",
   "execution_count": 15,
   "metadata": {},
   "outputs": [
    {
     "data": {
      "text/plain": [
       "array([0.72072072, 0.00900901, 0.04504505, 0.22522523])"
      ]
     },
     "execution_count": 15,
     "metadata": {},
     "output_type": "execute_result"
    }
   ],
   "source": [
    "pi"
   ]
  },
  {
   "cell_type": "code",
   "execution_count": 16,
   "metadata": {
    "colab": {
     "base_uri": "https://localhost:8080/"
    },
    "id": "KW0Th3onrBc7",
    "outputId": "7bb251d6-47bc-4491-c347-10395f7aec74"
   },
   "outputs": [
    {
     "name": "stderr",
     "output_type": "stream",
     "text": [
      "100%|████████████████████████████████████████████████████████████████████| 9999999/9999999 [01:04<00:00, 154326.57it/s]\n"
     ]
    }
   ],
   "source": [
    "markov_chain = (Lambda, pi, f, g)\n",
    "discretization = (H, h)\n",
    "dimensions = (dim_X, dim_Y)\n",
    "\n",
    "#X, X_grid = model_X(dim_X, markov_chain, H, T)\n",
    "#Y, Y_grid = model_Y(X, dim_Y, discretization, T)\n",
    "X_pred, est_grid = filtering(Y, dimensions, markov_chain, h, T)\n",
    "#Y_sum = to_sums(Y, Y_grid)"
   ]
  },
  {
   "cell_type": "code",
   "execution_count": 17,
   "metadata": {},
   "outputs": [],
   "source": [
    "argmax = np.argmax(X_pred, axis=1)"
   ]
  },
  {
   "cell_type": "code",
   "execution_count": 18,
   "metadata": {},
   "outputs": [
    {
     "data": {
      "text/plain": [
       "0.7754521"
      ]
     },
     "execution_count": 18,
     "metadata": {},
     "output_type": "execute_result"
    }
   ],
   "source": [
    "np.sum(argmax == X) * H"
   ]
  },
  {
   "cell_type": "code",
   "execution_count": 19,
   "metadata": {},
   "outputs": [],
   "source": [
    "Y=0"
   ]
  },
  {
   "cell_type": "code",
   "execution_count": 20,
   "metadata": {
    "colab": {
     "base_uri": "https://localhost:8080/",
     "height": 413
    },
    "id": "SIGAByArnVft",
    "outputId": "88e55c34-535c-45f7-a0a8-7f63ba488ae6"
   },
   "outputs": [
    {
     "data": {
      "text/plain": [
       "'plt.figure(figsize=(12, 7), dpi=240)\\n#plt.title(\"Результат фильтрации по дискретизованным наблюдениям\")\\nplt.plot(np.arange(0,1,H), X+1, label=\\'Действительное значение\\', zorder=2)\\nplt.plot(np.arange(0,1,H), argmax+1, label=\\'Оценка\\', zorder=1)\\nplt.legend(loc=\\'upper right\\')\\nplt.ylabel(\\'Состояние МСП\\')\\nplt.xlabel(\\'Время (год)\\')\\nplt.yticks([1, 2, 3, 4])\\nplt.savefig(\"filtration_discrete.pgf\", bbox_inches=\\'tight\\')\\nplt.show()'"
      ]
     },
     "execution_count": 20,
     "metadata": {},
     "output_type": "execute_result"
    }
   ],
   "source": [
    "\"\"\"plt.figure(figsize=(12, 7), dpi=240)\n",
    "#plt.title(\"Результат фильтрации по дискретизованным наблюдениям\")\n",
    "plt.plot(np.arange(0,1,H), X+1, label='Действительное значение', zorder=2)\n",
    "plt.plot(np.arange(0,1,H), argmax+1, label='Оценка', zorder=1)\n",
    "plt.legend(loc='upper right')\n",
    "plt.ylabel('Состояние МСП')\n",
    "plt.xlabel('Время (год)')\n",
    "plt.yticks([1, 2, 3, 4])\n",
    "plt.savefig(\"filtration_discrete.pgf\", bbox_inches='tight')\n",
    "plt.show()\"\"\""
   ]
  },
  {
   "cell_type": "code",
   "execution_count": 21,
   "metadata": {},
   "outputs": [],
   "source": [
    "h = H"
   ]
  },
  {
   "cell_type": "code",
   "execution_count": 22,
   "metadata": {},
   "outputs": [
    {
     "data": {
      "text/plain": [
       "'xstart=0.15\\nxend=0.2\\n\\ncoor_xstart = int(xstart / h)\\ncoor_xend = int(xend/h)\\n\\nplt.figure(figsize=(15, 10), dpi=240)\\n#plt.title(\"Результат фильтрации по дискретизованным наблюдениям\")\\nplt.plot(np.arange(0,1,h)[coor_xstart:coor_xend], (X+1)[coor_xstart:coor_xend], label=\\'Действительное значение\\', zorder=2)\\nplt.plot(np.arange(0,1,h)[coor_xstart:coor_xend], (argmax+1)[coor_xstart:coor_xend], label=\\'Оценка\\', zorder=1)\\nplt.legend(loc=\\'upper right\\')\\nplt.ylabel(\\'Состояние МСП\\')\\nplt.xlabel(\\'Время (год)\\')\\nplt.yticks([1, 2, 3, 4])\\nplt.savefig(\"filtration_zoom_discrete.pgf\", bbox_inches=\\'tight\\')\\n#plt.show()'"
      ]
     },
     "execution_count": 22,
     "metadata": {},
     "output_type": "execute_result"
    }
   ],
   "source": [
    "\"\"\"xstart=0.15\n",
    "xend=0.2\n",
    "\n",
    "coor_xstart = int(xstart / h)\n",
    "coor_xend = int(xend/h)\n",
    "\n",
    "plt.figure(figsize=(15, 10), dpi=240)\n",
    "#plt.title(\"Результат фильтрации по дискретизованным наблюдениям\")\n",
    "plt.plot(np.arange(0,1,h)[coor_xstart:coor_xend], (X+1)[coor_xstart:coor_xend], label='Действительное значение', zorder=2)\n",
    "plt.plot(np.arange(0,1,h)[coor_xstart:coor_xend], (argmax+1)[coor_xstart:coor_xend], label='Оценка', zorder=1)\n",
    "plt.legend(loc='upper right')\n",
    "plt.ylabel('Состояние МСП')\n",
    "plt.xlabel('Время (год)')\n",
    "plt.yticks([1, 2, 3, 4])\n",
    "plt.savefig(\"filtration_zoom_discrete.pgf\", bbox_inches='tight')\n",
    "#plt.show()\"\"\""
   ]
  },
  {
   "cell_type": "code",
   "execution_count": 23,
   "metadata": {},
   "outputs": [],
   "source": [
    "xstart=0\n",
    "xend=1\n",
    "\n",
    "coor_xstart = int(xstart / h)\n",
    "coor_xend = int(xend/h)\n",
    "for i in range(1, dim_X+1):\n",
    "    plt.figure(figsize=(12, 1), dpi=240)\n",
    "    #plt.title(\"Результат фильтрации по дискретизованным наблюдениям (\"+str(i)+\"-состояние)\")\n",
    "    plt.plot(np.arange(0,1,h)[coor_xstart:coor_xend],np.equal(X, i-1)[coor_xstart:coor_xend], label='Действительное значение', zorder=2, lw=0.5)\n",
    "    plt.plot(np.arange(0,1,h)[coor_xstart:coor_xend],np.equal(argmax,i-1)[coor_xstart:coor_xend], label='Оценка', zorder=1, lw=0.5)\n",
    "    plt.plot(np.arange(0,1,h)[coor_xstart:coor_xend],X_pred[:,i-1][coor_xstart:coor_xend], label='Условная вероятность состояния', alpha=0.5, zorder=0, lw=0.5)\n",
    "    #plt.legend(loc='upper right')\n",
    "    #plt.xlabel('Время (год)')\n",
    "    plt.savefig(str(i)+\"state_discrete.pgf\", bbox_inches='tight')\n",
    "    #plt.show()"
   ]
  },
  {
   "cell_type": "code",
   "execution_count": 24,
   "metadata": {},
   "outputs": [],
   "source": [
    "xstart=0.35\n",
    "xend=0.4\n",
    "\n",
    "coor_xstart = int(xstart / h)\n",
    "coor_xend = int(xend/h)\n",
    "for i in range(1, dim_X+1):\n",
    "    plt.figure(figsize=(12, 1), dpi=240)\n",
    "    #plt.title(\"Результат фильтрации по дискретизованным наблюдениям (\"+str(i)+\"-состояние)\")\n",
    "    plt.plot(np.arange(0,1,h)[coor_xstart:coor_xend],np.equal(X, i-1)[coor_xstart:coor_xend], label='Действительное значение', zorder=2, lw=0.5)\n",
    "    plt.plot(np.arange(0,1,h)[coor_xstart:coor_xend],np.equal(argmax,i-1)[coor_xstart:coor_xend], label='Оценка', zorder=1, lw=0.5)\n",
    "    plt.plot(np.arange(0,1,h)[coor_xstart:coor_xend],X_pred[:,i-1][coor_xstart:coor_xend], label='Условная вероятность состояния', alpha=0.5, zorder=0, lw=0.5)\n",
    "    #plt.legend(loc='upper right')\n",
    "    #plt.xlabel('Время (год)')\n",
    "    plt.savefig(str(i)+\"state_zoom_discrete.pgf\", bbox_inches='tight')\n",
    "    #plt.show()"
   ]
  },
  {
   "cell_type": "code",
   "execution_count": 25,
   "metadata": {},
   "outputs": [
    {
     "data": {
      "text/plain": [
       "0.7754521"
      ]
     },
     "execution_count": 25,
     "metadata": {},
     "output_type": "execute_result"
    }
   ],
   "source": [
    "np.sum(argmax == X) * h"
   ]
  },
  {
   "cell_type": "code",
   "execution_count": 26,
   "metadata": {},
   "outputs": [
    {
     "data": {
      "text/plain": [
       "0.0031224"
      ]
     },
     "execution_count": 26,
     "metadata": {},
     "output_type": "execute_result"
    }
   ],
   "source": [
    "np.sum(argmax == 1)*h"
   ]
  },
  {
   "cell_type": "code",
   "execution_count": 27,
   "metadata": {},
   "outputs": [],
   "source": [
    "def bmatrix(a):\n",
    "    \"\"\"Returns a LaTeX bmatrix\n",
    "\n",
    "    :a: numpy array\n",
    "    :returns: LaTeX bmatrix as a string\n",
    "    \"\"\"\n",
    "    if len(a.shape) > 2:\n",
    "        raise ValueError('bmatrix can at most display two dimensions')\n",
    "    lines = str(a).replace('[', '').replace(']', '').splitlines()\n",
    "    rv = [r'\\begin{bmatrix}']\n",
    "    rv += ['  ' + ' & '.join(l.split()) + r'\\\\' for l in lines]\n",
    "    rv +=  [r'\\end{bmatrix}']\n",
    "    return '\\n'.join(rv)"
   ]
  },
  {
   "cell_type": "code",
   "execution_count": 28,
   "metadata": {},
   "outputs": [
    {
     "name": "stdout",
     "output_type": "stream",
     "text": [
      "[[0.49889 0.00078 0.00413 0.12021]\n",
      " [0.00288 0.00085 0.0024  0.00098]\n",
      " [0.00089 0.00149 0.05553 0.00925]\n",
      " [0.0049  0.      0.07663 0.22018]]\n"
     ]
    }
   ],
   "source": [
    "from sklearn.metrics import confusion_matrix\n",
    "np.set_printoptions(suppress=True, precision=5)\n",
    "print(confusion_matrix(X, argmax, labels=[0,1,2,3])*h)"
   ]
  },
  {
   "cell_type": "code",
   "execution_count": 29,
   "metadata": {},
   "outputs": [
    {
     "name": "stdout",
     "output_type": "stream",
     "text": [
      "\\begin{bmatrix}\n",
      "  0.49889 & 0.00078 & 0.00413 & 0.12021\\\\\n",
      "  0.00288 & 0.00085 & 0.0024 & 0.00098\\\\\n",
      "  0.00089 & 0.00149 & 0.05553 & 0.00925\\\\\n",
      "  0.0049 & 0. & 0.07663 & 0.22018\\\\\n",
      "\\end{bmatrix}\n"
     ]
    }
   ],
   "source": [
    "print(bmatrix(confusion_matrix(X, argmax, labels=[0,1,2,3])*h))"
   ]
  },
  {
   "cell_type": "code",
   "execution_count": 30,
   "metadata": {},
   "outputs": [],
   "source": [
    "def bmatrix(a):\n",
    "    \"\"\"Returns a LaTeX bmatrix\n",
    "\n",
    "    :a: numpy array\n",
    "    :returns: LaTeX bmatrix as a string\n",
    "    \"\"\"\n",
    "    if len(a.shape) > 2:\n",
    "        raise ValueError('bmatrix can at most display two dimensions')\n",
    "    lines = str(a).replace('[', '').replace(']', '').splitlines()\n",
    "    rv = [r'\\begin{bmatrix}']\n",
    "    rv += ['  ' + '\\% & '.join(l.split()) + r'\\%\\\\' for l in lines]\n",
    "    rv +=  [r'\\end{bmatrix}']\n",
    "    return '\\n'.join(rv)"
   ]
  },
  {
   "cell_type": "code",
   "execution_count": 31,
   "metadata": {},
   "outputs": [
    {
     "name": "stdout",
     "output_type": "stream",
     "text": [
      "\\begin{bmatrix}\n",
      "  79.94854\\% & 0.12565\\% & 0.66118\\% & 19.26463\\%\\\\\n",
      "  40.54491\\% & 11.956\\% & 33.69764\\% & 13.80145\\%\\\\\n",
      "  1.32621\\% & 2.21601\\% & 82.68477\\% & 13.773\\%\\\\\n",
      "  1.62408\\% & 0.\\% & 25.4\\% & 72.97592\\%\\\\\n",
      "\\end{bmatrix}\n"
     ]
    }
   ],
   "source": [
    "print(bmatrix(confusion_matrix(X, argmax, labels=[0,1,2,3], normalize='true') * 100))"
   ]
  },
  {
   "cell_type": "code",
   "execution_count": null,
   "metadata": {},
   "outputs": [],
   "source": []
  }
 ],
 "metadata": {
  "colab": {
   "provenance": []
  },
  "kernelspec": {
   "display_name": "Python 3 (ipykernel)",
   "language": "python",
   "name": "python3"
  },
  "language_info": {
   "codemirror_mode": {
    "name": "ipython",
    "version": 3
   },
   "file_extension": ".py",
   "mimetype": "text/x-python",
   "name": "python",
   "nbconvert_exporter": "python",
   "pygments_lexer": "ipython3",
   "version": "3.10.11"
  }
 },
 "nbformat": 4,
 "nbformat_minor": 1
}
