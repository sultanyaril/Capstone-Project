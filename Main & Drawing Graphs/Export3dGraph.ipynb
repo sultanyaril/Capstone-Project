{
 "cells": [
  {
   "cell_type": "code",
   "execution_count": 1,
   "id": "fe58093b",
   "metadata": {},
   "outputs": [],
   "source": [
    "import numpy as np\n",
    "import pandas as pd\n",
    "import scipy as sp\n",
    "from scipy.stats import multivariate_normal, weibull_min\n",
    "import matplotlib.pyplot as plt\n",
    "from tqdm import tqdm\n",
    "from mpl_toolkits.mplot3d import Axes3D"
   ]
  },
  {
   "cell_type": "code",
   "execution_count": 2,
   "id": "b8b4399e",
   "metadata": {},
   "outputs": [],
   "source": [
    "def stationary_distr(Q):\n",
    "  evals, evecs = np.linalg.eig(Q.T)\n",
    "  evec1 = evecs[:,np.isclose(evals, 1)]\n",
    "\n",
    "#Since np.isclose will return an array, we've indexed with an array\n",
    "#so we still have our 2nd axis.  Get rid of it, since it's only size 1.\n",
    "  evec1 = evec1[:,0]\n",
    "\n",
    "  stationary = evec1 / evec1.sum()\n",
    "\n",
    "#eigs finds complex eigenvalues and eigenvectors, so you'll want the real part.\n",
    "  stationary = stationary.real\n",
    "  return stationary"
   ]
  },
  {
   "cell_type": "code",
   "execution_count": 3,
   "id": "01f45f92",
   "metadata": {},
   "outputs": [],
   "source": [
    "def init_X(pi, U=np.random.uniform(0, 1, 1)):\n",
    "  cumm = 0\n",
    "  for i in range(len(pi)):\n",
    "    cumm += pi[i]\n",
    "    if cumm > U:\n",
    "      return i"
   ]
  },
  {
   "cell_type": "code",
   "execution_count": 4,
   "id": "f4de3ac0",
   "metadata": {},
   "outputs": [],
   "source": [
    "def scale(row):\n",
    "  s = np.sum(row)\n",
    "  return row/s"
   ]
  },
  {
   "cell_type": "code",
   "execution_count": 5,
   "id": "a0ef91d9",
   "metadata": {},
   "outputs": [],
   "source": [
    "def model_X(dim_X, markov_chain, H, T):\n",
    "  Lambda, pi, f, g = markov_chain\n",
    "  \n",
    "  # state\n",
    "  X_grid_length = int(T/H)\n",
    "  U = np.random.uniform(0, 1, X_grid_length)\n",
    "  X_grid = np.arange(0, X_grid_length)\n",
    "  X = np.empty(X_grid_length, dtype = np.int8)\n",
    "  X[0] = init_X(pi)\n",
    "  P = np.eye(dim_X) + H * Lambda\n",
    "  for i in tqdm(X_grid[1:]):\n",
    "    P_i = P[X[i - 1]]\n",
    "    X[i] = init_X(scale(P_i), U[i])\n",
    "  return X, X_grid"
   ]
  },
  {
   "cell_type": "code",
   "execution_count": 6,
   "id": "7c05c03f",
   "metadata": {},
   "outputs": [],
   "source": [
    "def model_Y(X, dim_Y, markov_chain, discretization, T):\n",
    "  H, h = discretization\n",
    "  Lambda, pi, f, g = markov_chain\n",
    "  # observations\n",
    "  Y_grid_length = int(T/h)\n",
    "\n",
    "  W =  np.random.multivariate_normal(np.zeros(dim_Y), np.eye(dim_Y), Y_grid_length)\n",
    "\n",
    "  Y_grid = np.arange(0, Y_grid_length)\n",
    "  Y = np.empty((Y_grid_length, dim_Y))\n",
    "  S = np.empty((Y_grid_length, dim_Y))\n",
    "  S[0] = np.ones(dim_Y)\n",
    "  for i in tqdm(Y_grid[1:]):\n",
    "    Y[i] = np.diag(S[i-1]) @ f[X[i * int(h/H)]] * h + np.diag(S[i-1]) @ W[i] @ np.linalg.cholesky(h * g[X[i * int(h/H)]])\n",
    "    S[i] = S[i - 1] + Y[i]\n",
    "  return Y, S, Y_grid  "
   ]
  },
  {
   "cell_type": "code",
   "execution_count": 7,
   "id": "e66e9cf7",
   "metadata": {},
   "outputs": [],
   "source": [
    "def model_Y_easy(X, dim_Y, markov_chain, discretization, T):\n",
    "  H, h = discretization\n",
    "  Lambda, pi, f, g = markov_chain\n",
    "  # observations\n",
    "  Y_grid_length = int(T/h)\n",
    "\n",
    "  W =  np.random.normal(0, 1, Y_grid_length)\n",
    "\n",
    "  Y_grid = np.arange(0, Y_grid_length)\n",
    "  Y = np.empty(Y_grid_length)\n",
    "  S = np.empty(Y_grid_length)\n",
    "  S[0] = 1\n",
    "  for i in tqdm(Y_grid[1:]):\n",
    "    Y[i] = S[i-1] * f[0] * h + S[i-1] * W[i] * np.sqrt(h * g[0])\n",
    "    S[i] = S[i - 1] + Y[i]\n",
    "  return Y, S, Y_grid  "
   ]
  },
  {
   "cell_type": "code",
   "execution_count": 8,
   "id": "ea59e4f4",
   "metadata": {},
   "outputs": [],
   "source": [
    "def to_sums(Y, start=0):\n",
    "  sum_Y = np.empty(Y.size)\n",
    "  sum_Y[0] = start\n",
    "  for i in tqdm(range(sum_Y.size)[1:]):\n",
    "    sum_Y[i] = sum_Y[i - 1] + Y[i - 1]\n",
    "  return sum_Y"
   ]
  },
  {
   "cell_type": "code",
   "execution_count": 9,
   "id": "9e80e0a0",
   "metadata": {},
   "outputs": [],
   "source": [
    "def model_observations(Y, X, weibull_distr_params, discretization, Y_grid, dimensions):\n",
    "  dim_X, dim_Y = dimensions\n",
    "  H, h = discretization\n",
    "  i = 0\n",
    "  t = np.empty(Y_grid.size)\n",
    "  S = np.empty(Y_grid.size)\n",
    "  curr_pos = 0\n",
    "  pbar = tqdm(total=Y_grid.size)\n",
    "  while i < Y_grid.size:\n",
    "    prev = i\n",
    "    weibull = weibull_min.rvs(weibull_distr_params[X[i * int(h/H)]][0], size=1, scale=weibull_distr_params[X[i * int(h/H)]][1])\n",
    "    w_int = int(np.around(weibull * h ** (-1), 0))\n",
    "    weibull_round = w_int * h\n",
    "    t[curr_pos] = weibull_round\n",
    "    i += w_int\n",
    "    if i < len(Y_grid):\n",
    "      S[curr_pos] = np.log(Y[i] / Y[prev])\n",
    "    curr_pos += 1\n",
    "    pbar.update(i - prev)\n",
    "  pbar.close()\n",
    "  return S[:curr_pos - 1], t[:curr_pos - 1]"
   ]
  },
  {
   "cell_type": "code",
   "execution_count": 10,
   "id": "a21e47c7",
   "metadata": {},
   "outputs": [],
   "source": [
    "def model_trades(S, t, window_orig, T):\n",
    "  mean_S = np.empty(int(T/window_orig))\n",
    "  mean_t = np.empty(int(T/window_orig))\n",
    "  cumm_T = np.empty(int(T/window_orig))\n",
    "  index_of_left = 0\n",
    "  curr_index = 0\n",
    "  window = window_orig\n",
    "  for i in tqdm(range(t.size)):\n",
    "    if np.sum(t[index_of_left:i]) >= window:\n",
    "      mean_S[curr_index] = np.sum(S[index_of_left:i]) / np.sqrt(window)  # or should be window?\n",
    "      mean_t[curr_index] = (i - index_of_left) / np.sqrt(window)  # np.sum(t[index_of_left:i]) / np.sqrt(window_orig) \n",
    "      cumm_T[curr_index] = i - index_of_left\n",
    "      window = window + window_orig - np.sum(t[index_of_left:i])\n",
    "      index_of_left = i\n",
    "      curr_index += 1\n",
    "  left_time = np.sum(t[index_of_left:])\n",
    "  mean_S[curr_index] = np.sum(S[index_of_left:]) / np.sqrt(left_time)\n",
    "  mean_t[curr_index] = (t.size - index_of_left) / np.sqrt(left_time)\n",
    "  cumm_T[curr_index] = t.size - index_of_left\n",
    "  return mean_S, mean_t, cumm_T\n"
   ]
  },
  {
   "cell_type": "code",
   "execution_count": 11,
   "id": "6695ef17",
   "metadata": {},
   "outputs": [],
   "source": [
    "def filter(U, h, window, markov_chain, T, weibull_distr_params, dim_X):\n",
    "  Lambda, pi, f, g = markov_chain\n",
    "  g = g.flatten()\n",
    "  f = f.flatten()\n",
    "  X_pred_grid_length = int(T/h)\n",
    "  X_pred = np.empty((X_pred_grid_length, dim_X), dtype=np.float32)\n",
    "  X_pred_grid = np.arange(0, X_pred_grid_length)\n",
    "  N_0 = np.empty((dim_X, 2))\n",
    "  N_1 = np.empty((dim_X, 2, 2))\n",
    "  for i in range(dim_X):\n",
    "    m_l = weibull_min.mean(weibull_distr_params[i][0], scale=weibull_distr_params[i][1])\n",
    "    d_l = weibull_min.var(weibull_distr_params[i][0], scale=weibull_distr_params[i][1])\n",
    "    N_0[i] = np.array([np.sqrt(window) / m_l, (f[i] - g[i] / 2) * np.sqrt(window)])\n",
    "    N_1[i] = np.diag([d_l / (m_l ** 3), g[i]])  # m_l or a_l?\n",
    "  \n",
    "  P_T = (np.eye(dim_X) + h * Lambda).T\n",
    "  X_pred[0] = pi\n",
    "  for i in tqdm(X_pred_grid[1:]):\n",
    "    X_pred[i] = P_T @ X_pred[i-1]\n",
    "    if i % (int(window / h)) == 0:\n",
    "      Z = np.empty((dim_X))\n",
    "      for j in range(dim_X):\n",
    "        Z[j] = X_pred[i][j] * multivariate_normal.pdf(U[i // int((window / h))], N_0[j], N_1[j])\n",
    "      if np.sum(Z) == 0:\n",
    "        print(i)\n",
    "      X_pred[i] = Z / np.sum(Z)\n",
    "  return X_pred"
   ]
  },
  {
   "cell_type": "code",
   "execution_count": 12,
   "id": "4baded60",
   "metadata": {},
   "outputs": [],
   "source": [
    "def get_gaussians(markov_chain, weibull_distr_params, dimensions):\n",
    "    #%matplotlib widget\n",
    "    Lambda, pi, f, g = markov_chain\n",
    "    dim_X, dim_Y = dimensions\n",
    "    g = g.flatten()\n",
    "    f = f.flatten()\n",
    "\n",
    "\n",
    "    N_0 = np.empty((dim_X, 2))\n",
    "    N_1 = np.empty((dim_X, 2, 2))\n",
    "    for i in range(dim_X):\n",
    "        m_l = weibull_min.mean(weibull_distr_params[i][0], scale=weibull_distr_params[i][1])\n",
    "        d_l = weibull_min.var(weibull_distr_params[i][0], scale=weibull_distr_params[i][1])\n",
    "        N_0[i] = np.array([np.sqrt(window) / m_l, (f[i] - g[i] / 2) * np.sqrt(window)])\n",
    "        N_1[i] = np.diag([d_l / (m_l ** 3), g[i]])  # m_l or a_l?\n",
    "    \n",
    "    return N_0, N_1"
   ]
  },
  {
   "cell_type": "code",
   "execution_count": 13,
   "id": "f7600c51",
   "metadata": {},
   "outputs": [],
   "source": [
    "H = 10 ** (-7) # X time\n",
    "h = 10 ** (-7) # Y time\n",
    "T = 5# in minutes\n",
    "\n",
    "seed = 1\n",
    "if seed != 0:\n",
    "  np.random.seed(seed)\n",
    "\n",
    "\n",
    "dim_X = 4\n",
    "dim_Y = 1\n",
    "\n",
    "Lambda = np.array([[-12.5, 12.5, 0, 0],\n",
    "                    [0, -1000, 1000, 0],\n",
    "                    [0, 0, -250, 250],\n",
    "                    [40, 0, 10, -50]])\n",
    "pi = stationary_distr(np.eye(dim_X) + H * Lambda)\n",
    "f = np.array([[0.07], \n",
    "              [0.03], \n",
    "              [0.02],\n",
    "              [0.025]])\n",
    "g = np.array([np.diag([0.1]), \n",
    "              np.diag([0.5]), \n",
    "              np.diag([0.6]),\n",
    "              np.diag([0.3])])\n",
    "weibull_distr_params = np.array([[1, 0.0000060],  # in article we have alpha = 1/Lambda, beta = k\n",
    "                                 [1.2, 0.0000050],  # k - wiki, scale\n",
    "                                 [1.2, 0.0000055],  #  \n",
    "                                 [1.4, 0.0000070]])\n",
    "markov_chain = (Lambda, pi, f, g)\n",
    "discretization = (H, h)\n",
    "dimensions = (dim_X, dim_Y)"
   ]
  },
  {
   "cell_type": "code",
   "execution_count": 14,
   "id": "d8c742c8",
   "metadata": {},
   "outputs": [
    {
     "name": "stderr",
     "output_type": "stream",
     "text": [
      "100%|██████████████████████████████████████████████████████████████████| 49999999/49999999 [04:32<00:00, 183658.09it/s]\n",
      "100%|███████████████████████████████████████████████████████████████████| 49999999/49999999 [13:55<00:00, 59880.04it/s]\n"
     ]
    }
   ],
   "source": [
    "X, X_grid = model_X(dim_X, markov_chain, H, T)\n",
    "Y, Y_sum, Y_grid = model_Y(X, dim_Y, markov_chain, discretization, T)"
   ]
  },
  {
   "cell_type": "code",
   "execution_count": 15,
   "id": "310d272a",
   "metadata": {},
   "outputs": [
    {
     "data": {
      "text/plain": [
       "\"with open('XandY.npy', 'rb') as file:\\n    npzfile = np.load(file)\\n    X = npzfile['X'].copy()\\n    X_grid = npzfile['X_grid'].copy()\\n    Y = npzfile['Y'].copy()\\n    Y_grid = npzfile['Y_grid'].copy()\\n    Y_sum = npzfile['Y_sum'].copy()\""
      ]
     },
     "execution_count": 15,
     "metadata": {},
     "output_type": "execute_result"
    }
   ],
   "source": [
    "\"\"\"with open('XandY.npy', 'rb') as file:\n",
    "    npzfile = np.load(file)\n",
    "    X = npzfile['X'].copy()\n",
    "    X_grid = npzfile['X_grid'].copy()\n",
    "    Y = npzfile['Y'].copy()\n",
    "    Y_grid = npzfile['Y_grid'].copy()\n",
    "    Y_sum = npzfile['Y_sum'].copy()\"\"\""
   ]
  },
  {
   "cell_type": "code",
   "execution_count": 16,
   "id": "c2254bab",
   "metadata": {},
   "outputs": [
    {
     "name": "stderr",
     "output_type": "stream",
     "text": [
      "50000131it [00:38, 1292218.33it/s]                                                                                     \n",
      "100%|██████████████████████████████████████████████████████████████████████| 829115/829115 [00:03<00:00, 265044.16it/s]\n"
     ]
    }
   ],
   "source": [
    "S, t = model_observations(Y_sum, X, weibull_distr_params, discretization, Y_grid, dimensions)\n",
    "window = 10 ** (-4)\n",
    "mean_S, mean_t, cumm_T = model_trades(S, t, window, T)\n",
    "U = np.vstack([mean_t, mean_S]).T"
   ]
  },
  {
   "cell_type": "code",
   "execution_count": 17,
   "id": "17a87ec0",
   "metadata": {},
   "outputs": [],
   "source": [
    "N_0, N_1 = get_gaussians(markov_chain, weibull_distr_params, dimensions)"
   ]
  },
  {
   "cell_type": "code",
   "execution_count": 18,
   "id": "7a5ae877",
   "metadata": {},
   "outputs": [],
   "source": [
    "import numpy as np\n",
    "from scipy.io import savemat\n",
    "\n",
    "savemat('N_1.mat', {'arr': N_1.T})"
   ]
  },
  {
   "cell_type": "code",
   "execution_count": 19,
   "id": "2d183988",
   "metadata": {},
   "outputs": [],
   "source": [
    "savemat('N_0.mat', {'arr': N_0})"
   ]
  },
  {
   "cell_type": "code",
   "execution_count": 20,
   "id": "355bc5a1",
   "metadata": {},
   "outputs": [],
   "source": [
    "savemat('U.mat', {'arr': U})"
   ]
  },
  {
   "cell_type": "code",
   "execution_count": 21,
   "id": "7ac12e83",
   "metadata": {},
   "outputs": [],
   "source": [
    "savemat('all_data.mat', {'data': U, 'N_0': N_0, 'N_1': N_1.T})"
   ]
  },
  {
   "cell_type": "code",
   "execution_count": null,
   "id": "475f3f3a",
   "metadata": {},
   "outputs": [],
   "source": []
  }
 ],
 "metadata": {
  "kernelspec": {
   "display_name": "Python 3 (ipykernel)",
   "language": "python",
   "name": "python3"
  },
  "language_info": {
   "codemirror_mode": {
    "name": "ipython",
    "version": 3
   },
   "file_extension": ".py",
   "mimetype": "text/x-python",
   "name": "python",
   "nbconvert_exporter": "python",
   "pygments_lexer": "ipython3",
   "version": "3.10.11"
  }
 },
 "nbformat": 4,
 "nbformat_minor": 5
}
